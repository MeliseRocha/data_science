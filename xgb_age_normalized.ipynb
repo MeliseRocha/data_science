{
 "cells": [
  {
   "cell_type": "code",
   "execution_count": 4,
   "metadata": {},
   "outputs": [],
   "source": [
    "import pandas as pd\n",
    "from sklearn.model_selection import train_test_split, GridSearchCV\n",
    "from sklearn.preprocessing import StandardScaler, OneHotEncoder\n",
    "from sklearn.compose import ColumnTransformer\n",
    "from sklearn.pipeline import Pipeline\n",
    "from sklearn.metrics import classification_report\n",
    "import plotly.express as px\n",
    "import numpy as np\n",
    "import os\n",
    "from xgboost import XGBClassifier"
   ]
  },
  {
   "cell_type": "markdown",
   "metadata": {},
   "source": [
    "# SEM STANDARD SCALER"
   ]
  },
  {
   "cell_type": "code",
   "execution_count": 5,
   "metadata": {},
   "outputs": [],
   "source": [
    "# df_original = pd.read_csv('/home/enacom/Downloads/finep_alz/data/prep_balanced_data_normalized.csv')\n",
    "# columns_to_exclude = ['Subject', 'Session', \"GENDER\"]\n",
    "\n",
    "# df = df_original.drop(columns= columns_to_exclude)\n",
    "# df['Age'] = df['Age'].astype(str).str.split('.').str[0]\n",
    "# df['Age'] = df['Age'].astype(float)\n",
    "\n",
    "# df.dropna(axis = 0, inplace = True)"
   ]
  },
  {
   "cell_type": "code",
   "execution_count": 6,
   "metadata": {},
   "outputs": [],
   "source": [
    "# df_original = pd.read_csv('/home/enacom/Downloads/finep_alz/data/prep_balanced_data_normalized.csv')\n",
    "# df = df_original[[\"AD\", \"ctx-lh-entorhinal\", \"ctx-lh-parahippocampal\", \"Left-Accumbens-area\", \"Left-Hippocampus\", \"Right-Accumbens-area\", \"ctx-rh-entorhinal\", \"ctx-rh-parahippocampal\", \"hpcr_wm_left\",\t\"hpcr_wm_right\", \"Right_choroid_volume\", \"Right-Hippocampus\", \"CSF\", \"Age\"]]\n",
    "\n",
    "# # columns_to_exclude = ['Subject', 'Session', \"GENDER\"]\n",
    "\n",
    "# # df = df_original.drop(columns= columns_to_exclude)\n",
    "# df['Age'] = df['Age'].astype(str).str.split('.').str[0]\n",
    "# # df[\"Age\"].astype(int)\n",
    "# df.dropna(axis = 0, inplace = True)\n",
    "# df.head()"
   ]
  },
  {
   "cell_type": "code",
   "execution_count": 7,
   "metadata": {},
   "outputs": [],
   "source": [
    "# X = df.drop(columns=[\"AD\"], axis=1)\n",
    "# y = df[\"AD\"]\n",
    "# X_train, X_test, y_train, y_test = train_test_split(X, y, test_size=0.2, random_state=42, stratify=y)"
   ]
  },
  {
   "cell_type": "code",
   "execution_count": 8,
   "metadata": {},
   "outputs": [
    {
     "name": "stdout",
     "output_type": "stream",
     "text": [
      "(94, 93)\n",
      "(415, 93)\n"
     ]
    }
   ],
   "source": [
    "train_df = pd.read_csv(\"/home/enacom/Downloads/finep_alz/data/dataset_hani_train.csv\")\n",
    "test_df = pd.read_csv(\"/home/enacom/Downloads/finep_alz/data/dataset_hani_test.csv\")\n",
    "\n",
    "\n",
    "columns_to_exclude = ['Subject', 'Session', \"GENDER\"]\n",
    "train_df.drop(columns=columns_to_exclude, inplace= True)\n",
    "test_df.drop(columns=columns_to_exclude, inplace= True)\n",
    "# df['Age'] = df['Age'].astype(str).str.split('.').str[0]\n",
    "# df[\"Age\"].astype(int)\n",
    "train_df.dropna(axis = 0, inplace = True)\n",
    "test_df.dropna(axis = 0, inplace = True)\n",
    "print(test_df.shape)\n",
    "print(train_df.shape)\n",
    "X_train = train_df.drop('AD', axis=1)\n",
    "y_train = train_df['AD']\n",
    "X_test = test_df.drop('AD', axis=1)\n",
    "# Assuming the test set also has the target column for evaluation\n",
    "y_test = test_df['AD']"
   ]
  },
  {
   "cell_type": "code",
   "execution_count": 9,
   "metadata": {},
   "outputs": [
    {
     "name": "stderr",
     "output_type": "stream",
     "text": [
      "/home/enacom/miniconda3/lib/python3.12/site-packages/sklearn/metrics/_scorer.py:548: FutureWarning: The `needs_threshold` and `needs_proba` parameter are deprecated in version 1.4 and will be removed in 1.6. You can either let `response_method` be `None` or set it to `predict` to preserve the same behaviour.\n",
      "  warnings.warn(\n"
     ]
    }
   ],
   "source": [
    "from sklearn.metrics import make_scorer\n",
    "from sklearn.metrics import roc_curve, recall_score, precision_score, accuracy_score\n",
    "\n",
    "\n",
    "def recall_youden(y_true, y_proba):\n",
    "    fpr, tpr, thrs = roc_curve(y_true, y_proba)\n",
    "    j = tpr - fpr\n",
    "    idx = np.argmax(j)\n",
    "    best_thr = thrs[idx]\n",
    "    \n",
    "    return recall_score(y_true, y_proba>=best_thr)   \n",
    "\n",
    "def precision_youden(y_true, y_proba):\n",
    "    fpr, tpr, thrs = roc_curve(y_true, y_proba)\n",
    "    j = tpr - fpr\n",
    "    idx = np.argmax(j)\n",
    "    best_thr = thrs[idx]\n",
    "    \n",
    "    return precision_score(y_true, y_proba>=best_thr)  \n",
    "\n",
    "from sklearn.metrics import make_scorer\n",
    "from sklearn.metrics import roc_curve, recall_score, precision_score, accuracy_score\n",
    "\n",
    "\n",
    "def recall_youden(y_true, y_proba):\n",
    "    fpr, tpr, thrs = roc_curve(y_true, y_proba)\n",
    "    j = tpr - fpr\n",
    "    idx = np.argmax(j)\n",
    "    best_thr = thrs[idx]\n",
    "    \n",
    "    return recall_score(y_true, y_proba>=best_thr)   \n",
    "\n",
    "def precision_youden(y_true, y_proba):\n",
    "    fpr, tpr, thrs = roc_curve(y_true, y_proba)\n",
    "    j = tpr - fpr\n",
    "    idx = np.argmax(j)\n",
    "    best_thr = thrs[idx]\n",
    "    \n",
    "    return precision_score(y_true, y_proba>=best_thr)  \n",
    "\n",
    "def accuracy_youden(y_true, y_proba):\n",
    "    # Calculate the ROC curve\n",
    "    fpr, tpr, thresholds = roc_curve(y_true, y_proba)\n",
    "    \n",
    "    # Calculate Youden's J statistic\n",
    "    J = tpr - fpr\n",
    "    # Find the optimal threshold\n",
    "    idx = np.argmax(J)\n",
    "    best_thresh = thresholds[idx]\n",
    "    \n",
    "    # Make predictions based on the optimal threshold\n",
    "    y_pred = (y_proba >= best_thresh).astype(int)\n",
    "    \n",
    "    # Calculate accuracy\n",
    "    return accuracy_score(y_true, y_pred)\n",
    "\n",
    "recall_youden_scorer = make_scorer(recall_youden, needs_proba=True)\n",
    "precision_youden_scorer = make_scorer(precision_youden, needs_proba=True)\n",
    "accuracy_youden_scorer = make_scorer(accuracy_youden, needs_proba=True)"
   ]
  },
  {
   "cell_type": "code",
   "execution_count": 10,
   "metadata": {},
   "outputs": [
    {
     "data": {
      "text/plain": [
       "[{'recall_youden': 0.7450980392156863,\n",
       "  'precision_youden': 0.5846153846153846,\n",
       "  'accuracy_youden': 0.574468085106383},\n",
       " {'recall_youden': 0.19607843137254902,\n",
       "  'precision_youden': 0.7692307692307693,\n",
       "  'accuracy_youden': 0.5319148936170213},\n",
       " {'recall_youden': 0.19607843137254902,\n",
       "  'precision_youden': 0.8333333333333334,\n",
       "  'accuracy_youden': 0.5425531914893617},\n",
       " {'recall_youden': 0.21568627450980393,\n",
       "  'precision_youden': 0.7333333333333333,\n",
       "  'accuracy_youden': 0.5319148936170213},\n",
       " {'recall_youden': 0.11764705882352941,\n",
       "  'precision_youden': 1.0,\n",
       "  'accuracy_youden': 0.5212765957446809},\n",
       " {'recall_youden': 0.1568627450980392,\n",
       "  'precision_youden': 1.0,\n",
       "  'accuracy_youden': 0.5425531914893617},\n",
       " {'recall_youden': 0.23529411764705882,\n",
       "  'precision_youden': 0.75,\n",
       "  'accuracy_youden': 0.5425531914893617},\n",
       " {'recall_youden': 0.23529411764705882,\n",
       "  'precision_youden': 0.8,\n",
       "  'accuracy_youden': 0.5531914893617021},\n",
       " {'recall_youden': 0.21568627450980393,\n",
       "  'precision_youden': 0.7857142857142857,\n",
       "  'accuracy_youden': 0.5425531914893617},\n",
       " {'recall_youden': 0.0784313725490196,\n",
       "  'precision_youden': 1.0,\n",
       "  'accuracy_youden': 0.5},\n",
       " {'recall_youden': 0.1568627450980392,\n",
       "  'precision_youden': 0.8,\n",
       "  'accuracy_youden': 0.5212765957446809},\n",
       " {'recall_youden': 0.19607843137254902,\n",
       "  'precision_youden': 0.7692307692307693,\n",
       "  'accuracy_youden': 0.5319148936170213},\n",
       " {'recall_youden': 0.11764705882352941,\n",
       "  'precision_youden': 0.8571428571428571,\n",
       "  'accuracy_youden': 0.5106382978723404},\n",
       " {'recall_youden': 0.09803921568627451,\n",
       "  'precision_youden': 1.0,\n",
       "  'accuracy_youden': 0.5106382978723404},\n",
       " {'recall_youden': 0.11764705882352941,\n",
       "  'precision_youden': 1.0,\n",
       "  'accuracy_youden': 0.5212765957446809},\n",
       " {'recall_youden': 0.1568627450980392,\n",
       "  'precision_youden': 1.0,\n",
       "  'accuracy_youden': 0.5425531914893617},\n",
       " {'recall_youden': 0.13725490196078433,\n",
       "  'precision_youden': 1.0,\n",
       "  'accuracy_youden': 0.5319148936170213},\n",
       " {'recall_youden': 0.11764705882352941,\n",
       "  'precision_youden': 1.0,\n",
       "  'accuracy_youden': 0.5212765957446809},\n",
       " {'recall_youden': 0.27450980392156865,\n",
       "  'precision_youden': 0.6666666666666666,\n",
       "  'accuracy_youden': 0.5319148936170213},\n",
       " {'recall_youden': 0.11764705882352941,\n",
       "  'precision_youden': 0.8571428571428571,\n",
       "  'accuracy_youden': 0.5106382978723404},\n",
       " {'recall_youden': 0.9803921568627451,\n",
       "  'precision_youden': 0.5617977528089888,\n",
       "  'accuracy_youden': 0.574468085106383},\n",
       " {'recall_youden': 0.1568627450980392,\n",
       "  'precision_youden': 0.7272727272727273,\n",
       "  'accuracy_youden': 0.5106382978723404},\n",
       " {'recall_youden': 0.21568627450980393,\n",
       "  'precision_youden': 0.6470588235294118,\n",
       "  'accuracy_youden': 0.5106382978723404},\n",
       " {'recall_youden': 0.21568627450980393,\n",
       "  'precision_youden': 0.6875,\n",
       "  'accuracy_youden': 0.5212765957446809},\n",
       " {'recall_youden': 0.13725490196078433,\n",
       "  'precision_youden': 0.7777777777777778,\n",
       "  'accuracy_youden': 0.5106382978723404},\n",
       " {'recall_youden': 0.1568627450980392,\n",
       "  'precision_youden': 0.8,\n",
       "  'accuracy_youden': 0.5212765957446809},\n",
       " {'recall_youden': 0.1568627450980392,\n",
       "  'precision_youden': 0.7272727272727273,\n",
       "  'accuracy_youden': 0.5106382978723404},\n",
       " {'recall_youden': 0.11764705882352941,\n",
       "  'precision_youden': 1.0,\n",
       "  'accuracy_youden': 0.5212765957446809},\n",
       " {'recall_youden': 0.1568627450980392,\n",
       "  'precision_youden': 0.8,\n",
       "  'accuracy_youden': 0.5212765957446809},\n",
       " {'recall_youden': 0.17647058823529413,\n",
       "  'precision_youden': 0.75,\n",
       "  'accuracy_youden': 0.5212765957446809},\n",
       " {'recall_youden': 0.13725490196078433,\n",
       "  'precision_youden': 1.0,\n",
       "  'accuracy_youden': 0.5319148936170213},\n",
       " {'recall_youden': 0.19607843137254902,\n",
       "  'precision_youden': 1.0,\n",
       "  'accuracy_youden': 0.5638297872340425},\n",
       " {'recall_youden': 0.1568627450980392,\n",
       "  'precision_youden': 1.0,\n",
       "  'accuracy_youden': 0.5425531914893617},\n",
       " {'recall_youden': 0.09803921568627451,\n",
       "  'precision_youden': 0.8333333333333334,\n",
       "  'accuracy_youden': 0.5},\n",
       " {'recall_youden': 0.11764705882352941,\n",
       "  'precision_youden': 0.75,\n",
       "  'accuracy_youden': 0.5},\n",
       " {'recall_youden': 0.11764705882352941,\n",
       "  'precision_youden': 0.75,\n",
       "  'accuracy_youden': 0.5},\n",
       " {'recall_youden': 0.09803921568627451,\n",
       "  'precision_youden': 1.0,\n",
       "  'accuracy_youden': 0.5106382978723404},\n",
       " {'recall_youden': 0.0784313725490196,\n",
       "  'precision_youden': 1.0,\n",
       "  'accuracy_youden': 0.5},\n",
       " {'recall_youden': 0.11764705882352941,\n",
       "  'precision_youden': 0.8571428571428571,\n",
       "  'accuracy_youden': 0.5106382978723404},\n",
       " {'recall_youden': 0.23529411764705882,\n",
       "  'precision_youden': 0.7058823529411765,\n",
       "  'accuracy_youden': 0.5319148936170213},\n",
       " {'recall_youden': 0.19607843137254902,\n",
       "  'precision_youden': 0.8333333333333334,\n",
       "  'accuracy_youden': 0.5425531914893617},\n",
       " {'recall_youden': 0.21568627450980393,\n",
       "  'precision_youden': 0.7857142857142857,\n",
       "  'accuracy_youden': 0.5425531914893617},\n",
       " {'recall_youden': 0.058823529411764705,\n",
       "  'precision_youden': 1.0,\n",
       "  'accuracy_youden': 0.48936170212765956},\n",
       " {'recall_youden': 1.0,\n",
       "  'precision_youden': 0.5604395604395604,\n",
       "  'accuracy_youden': 0.574468085106383},\n",
       " {'recall_youden': 0.11764705882352941,\n",
       "  'precision_youden': 0.75,\n",
       "  'accuracy_youden': 0.5}]"
      ]
     },
     "execution_count": 10,
     "metadata": {},
     "output_type": "execute_result"
    }
   ],
   "source": [
    "from sklearn.model_selection import ParameterGrid\n",
    "\n",
    "param_grid = {\n",
    "    # Variables\n",
    "    'max_depth': [2, 4, 6, 8, 10],\n",
    "    'learning_rate': [0.01, 0.05, 0.1],\n",
    "    'n_estimators': [100, 200, 300],\n",
    "\n",
    "    # Fixed parameters\n",
    "    # 'scale_pos_weight': [1.48],\n",
    "    \n",
    "    'random_state': [42],\n",
    "\n",
    "    # Additional parameter\n",
    "    'enable_categorical': [True]  # Adding the enable_categorical flag\n",
    "}\n",
    "\n",
    "results = []\n",
    "for param in list(ParameterGrid(param_grid)):\n",
    "    # param['enable_categorical'] = True \n",
    "    cf = XGBClassifier(**param)\n",
    "    cf.fit(X_train, y_train)\n",
    "    y_pred = cf.predict_proba(X_test)\n",
    "    r = {\n",
    "        'recall_youden':recall_youden(y_test, y_pred[:, 1]),\n",
    "        'precision_youden':precision_youden(y_test, y_pred[:, 1]),\n",
    "        'accuracy_youden':accuracy_youden(y_test, y_pred[:, 1]),\n",
    "    }\n",
    "    results.append(r)\n",
    " \n",
    "    \n",
    "results  "
   ]
  },
  {
   "cell_type": "code",
   "execution_count": 11,
   "metadata": {},
   "outputs": [
    {
     "data": {
      "application/vnd.plotly.v1+json": {
       "config": {
        "plotlyServerURL": "https://plot.ly"
       },
       "data": [
        {
         "customdata": [
          [
           "{'enable_categorical': True, 'learning_rate': 0.01, 'max_depth': 2, 'n_estimators': 100, 'random_state': 42}"
          ],
          [
           "{'enable_categorical': True, 'learning_rate': 0.01, 'max_depth': 2, 'n_estimators': 200, 'random_state': 42}"
          ],
          [
           "{'enable_categorical': True, 'learning_rate': 0.01, 'max_depth': 2, 'n_estimators': 300, 'random_state': 42}"
          ],
          [
           "{'enable_categorical': True, 'learning_rate': 0.01, 'max_depth': 4, 'n_estimators': 100, 'random_state': 42}"
          ],
          [
           "{'enable_categorical': True, 'learning_rate': 0.01, 'max_depth': 4, 'n_estimators': 200, 'random_state': 42}"
          ],
          [
           "{'enable_categorical': True, 'learning_rate': 0.01, 'max_depth': 4, 'n_estimators': 300, 'random_state': 42}"
          ],
          [
           "{'enable_categorical': True, 'learning_rate': 0.01, 'max_depth': 6, 'n_estimators': 100, 'random_state': 42}"
          ],
          [
           "{'enable_categorical': True, 'learning_rate': 0.01, 'max_depth': 6, 'n_estimators': 200, 'random_state': 42}"
          ],
          [
           "{'enable_categorical': True, 'learning_rate': 0.01, 'max_depth': 6, 'n_estimators': 300, 'random_state': 42}"
          ],
          [
           "{'enable_categorical': True, 'learning_rate': 0.01, 'max_depth': 8, 'n_estimators': 100, 'random_state': 42}"
          ],
          [
           "{'enable_categorical': True, 'learning_rate': 0.01, 'max_depth': 8, 'n_estimators': 200, 'random_state': 42}"
          ],
          [
           "{'enable_categorical': True, 'learning_rate': 0.01, 'max_depth': 8, 'n_estimators': 300, 'random_state': 42}"
          ],
          [
           "{'enable_categorical': True, 'learning_rate': 0.01, 'max_depth': 10, 'n_estimators': 100, 'random_state': 42}"
          ],
          [
           "{'enable_categorical': True, 'learning_rate': 0.01, 'max_depth': 10, 'n_estimators': 200, 'random_state': 42}"
          ],
          [
           "{'enable_categorical': True, 'learning_rate': 0.01, 'max_depth': 10, 'n_estimators': 300, 'random_state': 42}"
          ],
          [
           "{'enable_categorical': True, 'learning_rate': 0.05, 'max_depth': 2, 'n_estimators': 100, 'random_state': 42}"
          ],
          [
           "{'enable_categorical': True, 'learning_rate': 0.05, 'max_depth': 2, 'n_estimators': 200, 'random_state': 42}"
          ],
          [
           "{'enable_categorical': True, 'learning_rate': 0.05, 'max_depth': 2, 'n_estimators': 300, 'random_state': 42}"
          ],
          [
           "{'enable_categorical': True, 'learning_rate': 0.05, 'max_depth': 4, 'n_estimators': 100, 'random_state': 42}"
          ],
          [
           "{'enable_categorical': True, 'learning_rate': 0.05, 'max_depth': 4, 'n_estimators': 200, 'random_state': 42}"
          ],
          [
           "{'enable_categorical': True, 'learning_rate': 0.05, 'max_depth': 4, 'n_estimators': 300, 'random_state': 42}"
          ],
          [
           "{'enable_categorical': True, 'learning_rate': 0.05, 'max_depth': 6, 'n_estimators': 100, 'random_state': 42}"
          ],
          [
           "{'enable_categorical': True, 'learning_rate': 0.05, 'max_depth': 6, 'n_estimators': 200, 'random_state': 42}"
          ],
          [
           "{'enable_categorical': True, 'learning_rate': 0.05, 'max_depth': 6, 'n_estimators': 300, 'random_state': 42}"
          ],
          [
           "{'enable_categorical': True, 'learning_rate': 0.05, 'max_depth': 8, 'n_estimators': 100, 'random_state': 42}"
          ],
          [
           "{'enable_categorical': True, 'learning_rate': 0.05, 'max_depth': 8, 'n_estimators': 200, 'random_state': 42}"
          ],
          [
           "{'enable_categorical': True, 'learning_rate': 0.05, 'max_depth': 8, 'n_estimators': 300, 'random_state': 42}"
          ],
          [
           "{'enable_categorical': True, 'learning_rate': 0.05, 'max_depth': 10, 'n_estimators': 100, 'random_state': 42}"
          ],
          [
           "{'enable_categorical': True, 'learning_rate': 0.05, 'max_depth': 10, 'n_estimators': 200, 'random_state': 42}"
          ],
          [
           "{'enable_categorical': True, 'learning_rate': 0.05, 'max_depth': 10, 'n_estimators': 300, 'random_state': 42}"
          ],
          [
           "{'enable_categorical': True, 'learning_rate': 0.1, 'max_depth': 2, 'n_estimators': 100, 'random_state': 42}"
          ],
          [
           "{'enable_categorical': True, 'learning_rate': 0.1, 'max_depth': 2, 'n_estimators': 200, 'random_state': 42}"
          ],
          [
           "{'enable_categorical': True, 'learning_rate': 0.1, 'max_depth': 2, 'n_estimators': 300, 'random_state': 42}"
          ],
          [
           "{'enable_categorical': True, 'learning_rate': 0.1, 'max_depth': 4, 'n_estimators': 100, 'random_state': 42}"
          ],
          [
           "{'enable_categorical': True, 'learning_rate': 0.1, 'max_depth': 4, 'n_estimators': 200, 'random_state': 42}"
          ],
          [
           "{'enable_categorical': True, 'learning_rate': 0.1, 'max_depth': 4, 'n_estimators': 300, 'random_state': 42}"
          ],
          [
           "{'enable_categorical': True, 'learning_rate': 0.1, 'max_depth': 6, 'n_estimators': 100, 'random_state': 42}"
          ],
          [
           "{'enable_categorical': True, 'learning_rate': 0.1, 'max_depth': 6, 'n_estimators': 200, 'random_state': 42}"
          ],
          [
           "{'enable_categorical': True, 'learning_rate': 0.1, 'max_depth': 6, 'n_estimators': 300, 'random_state': 42}"
          ],
          [
           "{'enable_categorical': True, 'learning_rate': 0.1, 'max_depth': 8, 'n_estimators': 100, 'random_state': 42}"
          ],
          [
           "{'enable_categorical': True, 'learning_rate': 0.1, 'max_depth': 8, 'n_estimators': 200, 'random_state': 42}"
          ],
          [
           "{'enable_categorical': True, 'learning_rate': 0.1, 'max_depth': 8, 'n_estimators': 300, 'random_state': 42}"
          ],
          [
           "{'enable_categorical': True, 'learning_rate': 0.1, 'max_depth': 10, 'n_estimators': 100, 'random_state': 42}"
          ],
          [
           "{'enable_categorical': True, 'learning_rate': 0.1, 'max_depth': 10, 'n_estimators': 200, 'random_state': 42}"
          ],
          [
           "{'enable_categorical': True, 'learning_rate': 0.1, 'max_depth': 10, 'n_estimators': 300, 'random_state': 42}"
          ]
         ],
         "hovertemplate": "Accuracy=%{x}<br>Precision=%{y}<br>Parameters=%{customdata[0]}<extra></extra>",
         "legendgroup": "",
         "marker": {
          "color": "#636efa",
          "symbol": "circle"
         },
         "mode": "markers",
         "name": "",
         "orientation": "v",
         "showlegend": false,
         "type": "scatter",
         "x": [
          0.574468085106383,
          0.5319148936170213,
          0.5425531914893617,
          0.5319148936170213,
          0.5212765957446809,
          0.5425531914893617,
          0.5425531914893617,
          0.5531914893617021,
          0.5425531914893617,
          0.5,
          0.5212765957446809,
          0.5319148936170213,
          0.5106382978723404,
          0.5106382978723404,
          0.5212765957446809,
          0.5425531914893617,
          0.5319148936170213,
          0.5212765957446809,
          0.5319148936170213,
          0.5106382978723404,
          0.574468085106383,
          0.5106382978723404,
          0.5106382978723404,
          0.5212765957446809,
          0.5106382978723404,
          0.5212765957446809,
          0.5106382978723404,
          0.5212765957446809,
          0.5212765957446809,
          0.5212765957446809,
          0.5319148936170213,
          0.5638297872340425,
          0.5425531914893617,
          0.5,
          0.5,
          0.5,
          0.5106382978723404,
          0.5,
          0.5106382978723404,
          0.5319148936170213,
          0.5425531914893617,
          0.5425531914893617,
          0.48936170212765956,
          0.574468085106383,
          0.5
         ],
         "xaxis": "x",
         "y": [
          0.5846153846153846,
          0.7692307692307693,
          0.8333333333333334,
          0.7333333333333333,
          1,
          1,
          0.75,
          0.8,
          0.7857142857142857,
          1,
          0.8,
          0.7692307692307693,
          0.8571428571428571,
          1,
          1,
          1,
          1,
          1,
          0.6666666666666666,
          0.8571428571428571,
          0.5617977528089888,
          0.7272727272727273,
          0.6470588235294118,
          0.6875,
          0.7777777777777778,
          0.8,
          0.7272727272727273,
          1,
          0.8,
          0.75,
          1,
          1,
          1,
          0.8333333333333334,
          0.75,
          0.75,
          1,
          1,
          0.8571428571428571,
          0.7058823529411765,
          0.8333333333333334,
          0.7857142857142857,
          1,
          0.5604395604395604,
          0.75
         ],
         "yaxis": "y"
        }
       ],
       "layout": {
        "legend": {
         "tracegroupgap": 0
        },
        "template": {
         "data": {
          "bar": [
           {
            "error_x": {
             "color": "#2a3f5f"
            },
            "error_y": {
             "color": "#2a3f5f"
            },
            "marker": {
             "line": {
              "color": "#E5ECF6",
              "width": 0.5
             },
             "pattern": {
              "fillmode": "overlay",
              "size": 10,
              "solidity": 0.2
             }
            },
            "type": "bar"
           }
          ],
          "barpolar": [
           {
            "marker": {
             "line": {
              "color": "#E5ECF6",
              "width": 0.5
             },
             "pattern": {
              "fillmode": "overlay",
              "size": 10,
              "solidity": 0.2
             }
            },
            "type": "barpolar"
           }
          ],
          "carpet": [
           {
            "aaxis": {
             "endlinecolor": "#2a3f5f",
             "gridcolor": "white",
             "linecolor": "white",
             "minorgridcolor": "white",
             "startlinecolor": "#2a3f5f"
            },
            "baxis": {
             "endlinecolor": "#2a3f5f",
             "gridcolor": "white",
             "linecolor": "white",
             "minorgridcolor": "white",
             "startlinecolor": "#2a3f5f"
            },
            "type": "carpet"
           }
          ],
          "choropleth": [
           {
            "colorbar": {
             "outlinewidth": 0,
             "ticks": ""
            },
            "type": "choropleth"
           }
          ],
          "contour": [
           {
            "colorbar": {
             "outlinewidth": 0,
             "ticks": ""
            },
            "colorscale": [
             [
              0,
              "#0d0887"
             ],
             [
              0.1111111111111111,
              "#46039f"
             ],
             [
              0.2222222222222222,
              "#7201a8"
             ],
             [
              0.3333333333333333,
              "#9c179e"
             ],
             [
              0.4444444444444444,
              "#bd3786"
             ],
             [
              0.5555555555555556,
              "#d8576b"
             ],
             [
              0.6666666666666666,
              "#ed7953"
             ],
             [
              0.7777777777777778,
              "#fb9f3a"
             ],
             [
              0.8888888888888888,
              "#fdca26"
             ],
             [
              1,
              "#f0f921"
             ]
            ],
            "type": "contour"
           }
          ],
          "contourcarpet": [
           {
            "colorbar": {
             "outlinewidth": 0,
             "ticks": ""
            },
            "type": "contourcarpet"
           }
          ],
          "heatmap": [
           {
            "colorbar": {
             "outlinewidth": 0,
             "ticks": ""
            },
            "colorscale": [
             [
              0,
              "#0d0887"
             ],
             [
              0.1111111111111111,
              "#46039f"
             ],
             [
              0.2222222222222222,
              "#7201a8"
             ],
             [
              0.3333333333333333,
              "#9c179e"
             ],
             [
              0.4444444444444444,
              "#bd3786"
             ],
             [
              0.5555555555555556,
              "#d8576b"
             ],
             [
              0.6666666666666666,
              "#ed7953"
             ],
             [
              0.7777777777777778,
              "#fb9f3a"
             ],
             [
              0.8888888888888888,
              "#fdca26"
             ],
             [
              1,
              "#f0f921"
             ]
            ],
            "type": "heatmap"
           }
          ],
          "heatmapgl": [
           {
            "colorbar": {
             "outlinewidth": 0,
             "ticks": ""
            },
            "colorscale": [
             [
              0,
              "#0d0887"
             ],
             [
              0.1111111111111111,
              "#46039f"
             ],
             [
              0.2222222222222222,
              "#7201a8"
             ],
             [
              0.3333333333333333,
              "#9c179e"
             ],
             [
              0.4444444444444444,
              "#bd3786"
             ],
             [
              0.5555555555555556,
              "#d8576b"
             ],
             [
              0.6666666666666666,
              "#ed7953"
             ],
             [
              0.7777777777777778,
              "#fb9f3a"
             ],
             [
              0.8888888888888888,
              "#fdca26"
             ],
             [
              1,
              "#f0f921"
             ]
            ],
            "type": "heatmapgl"
           }
          ],
          "histogram": [
           {
            "marker": {
             "pattern": {
              "fillmode": "overlay",
              "size": 10,
              "solidity": 0.2
             }
            },
            "type": "histogram"
           }
          ],
          "histogram2d": [
           {
            "colorbar": {
             "outlinewidth": 0,
             "ticks": ""
            },
            "colorscale": [
             [
              0,
              "#0d0887"
             ],
             [
              0.1111111111111111,
              "#46039f"
             ],
             [
              0.2222222222222222,
              "#7201a8"
             ],
             [
              0.3333333333333333,
              "#9c179e"
             ],
             [
              0.4444444444444444,
              "#bd3786"
             ],
             [
              0.5555555555555556,
              "#d8576b"
             ],
             [
              0.6666666666666666,
              "#ed7953"
             ],
             [
              0.7777777777777778,
              "#fb9f3a"
             ],
             [
              0.8888888888888888,
              "#fdca26"
             ],
             [
              1,
              "#f0f921"
             ]
            ],
            "type": "histogram2d"
           }
          ],
          "histogram2dcontour": [
           {
            "colorbar": {
             "outlinewidth": 0,
             "ticks": ""
            },
            "colorscale": [
             [
              0,
              "#0d0887"
             ],
             [
              0.1111111111111111,
              "#46039f"
             ],
             [
              0.2222222222222222,
              "#7201a8"
             ],
             [
              0.3333333333333333,
              "#9c179e"
             ],
             [
              0.4444444444444444,
              "#bd3786"
             ],
             [
              0.5555555555555556,
              "#d8576b"
             ],
             [
              0.6666666666666666,
              "#ed7953"
             ],
             [
              0.7777777777777778,
              "#fb9f3a"
             ],
             [
              0.8888888888888888,
              "#fdca26"
             ],
             [
              1,
              "#f0f921"
             ]
            ],
            "type": "histogram2dcontour"
           }
          ],
          "mesh3d": [
           {
            "colorbar": {
             "outlinewidth": 0,
             "ticks": ""
            },
            "type": "mesh3d"
           }
          ],
          "parcoords": [
           {
            "line": {
             "colorbar": {
              "outlinewidth": 0,
              "ticks": ""
             }
            },
            "type": "parcoords"
           }
          ],
          "pie": [
           {
            "automargin": true,
            "type": "pie"
           }
          ],
          "scatter": [
           {
            "fillpattern": {
             "fillmode": "overlay",
             "size": 10,
             "solidity": 0.2
            },
            "type": "scatter"
           }
          ],
          "scatter3d": [
           {
            "line": {
             "colorbar": {
              "outlinewidth": 0,
              "ticks": ""
             }
            },
            "marker": {
             "colorbar": {
              "outlinewidth": 0,
              "ticks": ""
             }
            },
            "type": "scatter3d"
           }
          ],
          "scattercarpet": [
           {
            "marker": {
             "colorbar": {
              "outlinewidth": 0,
              "ticks": ""
             }
            },
            "type": "scattercarpet"
           }
          ],
          "scattergeo": [
           {
            "marker": {
             "colorbar": {
              "outlinewidth": 0,
              "ticks": ""
             }
            },
            "type": "scattergeo"
           }
          ],
          "scattergl": [
           {
            "marker": {
             "colorbar": {
              "outlinewidth": 0,
              "ticks": ""
             }
            },
            "type": "scattergl"
           }
          ],
          "scattermapbox": [
           {
            "marker": {
             "colorbar": {
              "outlinewidth": 0,
              "ticks": ""
             }
            },
            "type": "scattermapbox"
           }
          ],
          "scatterpolar": [
           {
            "marker": {
             "colorbar": {
              "outlinewidth": 0,
              "ticks": ""
             }
            },
            "type": "scatterpolar"
           }
          ],
          "scatterpolargl": [
           {
            "marker": {
             "colorbar": {
              "outlinewidth": 0,
              "ticks": ""
             }
            },
            "type": "scatterpolargl"
           }
          ],
          "scatterternary": [
           {
            "marker": {
             "colorbar": {
              "outlinewidth": 0,
              "ticks": ""
             }
            },
            "type": "scatterternary"
           }
          ],
          "surface": [
           {
            "colorbar": {
             "outlinewidth": 0,
             "ticks": ""
            },
            "colorscale": [
             [
              0,
              "#0d0887"
             ],
             [
              0.1111111111111111,
              "#46039f"
             ],
             [
              0.2222222222222222,
              "#7201a8"
             ],
             [
              0.3333333333333333,
              "#9c179e"
             ],
             [
              0.4444444444444444,
              "#bd3786"
             ],
             [
              0.5555555555555556,
              "#d8576b"
             ],
             [
              0.6666666666666666,
              "#ed7953"
             ],
             [
              0.7777777777777778,
              "#fb9f3a"
             ],
             [
              0.8888888888888888,
              "#fdca26"
             ],
             [
              1,
              "#f0f921"
             ]
            ],
            "type": "surface"
           }
          ],
          "table": [
           {
            "cells": {
             "fill": {
              "color": "#EBF0F8"
             },
             "line": {
              "color": "white"
             }
            },
            "header": {
             "fill": {
              "color": "#C8D4E3"
             },
             "line": {
              "color": "white"
             }
            },
            "type": "table"
           }
          ]
         },
         "layout": {
          "annotationdefaults": {
           "arrowcolor": "#2a3f5f",
           "arrowhead": 0,
           "arrowwidth": 1
          },
          "autotypenumbers": "strict",
          "coloraxis": {
           "colorbar": {
            "outlinewidth": 0,
            "ticks": ""
           }
          },
          "colorscale": {
           "diverging": [
            [
             0,
             "#8e0152"
            ],
            [
             0.1,
             "#c51b7d"
            ],
            [
             0.2,
             "#de77ae"
            ],
            [
             0.3,
             "#f1b6da"
            ],
            [
             0.4,
             "#fde0ef"
            ],
            [
             0.5,
             "#f7f7f7"
            ],
            [
             0.6,
             "#e6f5d0"
            ],
            [
             0.7,
             "#b8e186"
            ],
            [
             0.8,
             "#7fbc41"
            ],
            [
             0.9,
             "#4d9221"
            ],
            [
             1,
             "#276419"
            ]
           ],
           "sequential": [
            [
             0,
             "#0d0887"
            ],
            [
             0.1111111111111111,
             "#46039f"
            ],
            [
             0.2222222222222222,
             "#7201a8"
            ],
            [
             0.3333333333333333,
             "#9c179e"
            ],
            [
             0.4444444444444444,
             "#bd3786"
            ],
            [
             0.5555555555555556,
             "#d8576b"
            ],
            [
             0.6666666666666666,
             "#ed7953"
            ],
            [
             0.7777777777777778,
             "#fb9f3a"
            ],
            [
             0.8888888888888888,
             "#fdca26"
            ],
            [
             1,
             "#f0f921"
            ]
           ],
           "sequentialminus": [
            [
             0,
             "#0d0887"
            ],
            [
             0.1111111111111111,
             "#46039f"
            ],
            [
             0.2222222222222222,
             "#7201a8"
            ],
            [
             0.3333333333333333,
             "#9c179e"
            ],
            [
             0.4444444444444444,
             "#bd3786"
            ],
            [
             0.5555555555555556,
             "#d8576b"
            ],
            [
             0.6666666666666666,
             "#ed7953"
            ],
            [
             0.7777777777777778,
             "#fb9f3a"
            ],
            [
             0.8888888888888888,
             "#fdca26"
            ],
            [
             1,
             "#f0f921"
            ]
           ]
          },
          "colorway": [
           "#636efa",
           "#EF553B",
           "#00cc96",
           "#ab63fa",
           "#FFA15A",
           "#19d3f3",
           "#FF6692",
           "#B6E880",
           "#FF97FF",
           "#FECB52"
          ],
          "font": {
           "color": "#2a3f5f"
          },
          "geo": {
           "bgcolor": "white",
           "lakecolor": "white",
           "landcolor": "#E5ECF6",
           "showlakes": true,
           "showland": true,
           "subunitcolor": "white"
          },
          "hoverlabel": {
           "align": "left"
          },
          "hovermode": "closest",
          "mapbox": {
           "style": "light"
          },
          "paper_bgcolor": "white",
          "plot_bgcolor": "#E5ECF6",
          "polar": {
           "angularaxis": {
            "gridcolor": "white",
            "linecolor": "white",
            "ticks": ""
           },
           "bgcolor": "#E5ECF6",
           "radialaxis": {
            "gridcolor": "white",
            "linecolor": "white",
            "ticks": ""
           }
          },
          "scene": {
           "xaxis": {
            "backgroundcolor": "#E5ECF6",
            "gridcolor": "white",
            "gridwidth": 2,
            "linecolor": "white",
            "showbackground": true,
            "ticks": "",
            "zerolinecolor": "white"
           },
           "yaxis": {
            "backgroundcolor": "#E5ECF6",
            "gridcolor": "white",
            "gridwidth": 2,
            "linecolor": "white",
            "showbackground": true,
            "ticks": "",
            "zerolinecolor": "white"
           },
           "zaxis": {
            "backgroundcolor": "#E5ECF6",
            "gridcolor": "white",
            "gridwidth": 2,
            "linecolor": "white",
            "showbackground": true,
            "ticks": "",
            "zerolinecolor": "white"
           }
          },
          "shapedefaults": {
           "line": {
            "color": "#2a3f5f"
           }
          },
          "ternary": {
           "aaxis": {
            "gridcolor": "white",
            "linecolor": "white",
            "ticks": ""
           },
           "baxis": {
            "gridcolor": "white",
            "linecolor": "white",
            "ticks": ""
           },
           "bgcolor": "#E5ECF6",
           "caxis": {
            "gridcolor": "white",
            "linecolor": "white",
            "ticks": ""
           }
          },
          "title": {
           "x": 0.05
          },
          "xaxis": {
           "automargin": true,
           "gridcolor": "white",
           "linecolor": "white",
           "ticks": "",
           "title": {
            "standoff": 15
           },
           "zerolinecolor": "white",
           "zerolinewidth": 2
          },
          "yaxis": {
           "automargin": true,
           "gridcolor": "white",
           "linecolor": "white",
           "ticks": "",
           "title": {
            "standoff": 15
           },
           "zerolinecolor": "white",
           "zerolinewidth": 2
          }
         }
        },
        "title": {
         "text": "Precision vs. Accuracy with Parameter Details"
        },
        "xaxis": {
         "anchor": "y",
         "domain": [
          0,
          1
         ],
         "title": {
          "text": "Accuracy"
         }
        },
        "yaxis": {
         "anchor": "x",
         "domain": [
          0,
          1
         ],
         "title": {
          "text": "Precision"
         }
        }
       }
      }
     },
     "metadata": {},
     "output_type": "display_data"
    }
   ],
   "source": [
    "cv_results = results\n",
    "\n",
    "data = {\n",
    "    'Mean Test Accuracy': [result['accuracy_youden'] for result in cv_results],\n",
    "    'Mean Test Precision': [result['precision_youden'] for result in cv_results],\n",
    "    'Parameters': [str(params) for params in list(ParameterGrid(param_grid))]\n",
    "}\n",
    "\n",
    "import plotly.express as px\n",
    "\n",
    "fig = px.scatter(\n",
    "    data,\n",
    "    x='Mean Test Accuracy',\n",
    "    y='Mean Test Precision',\n",
    "    hover_data=['Parameters'],\n",
    "    title='Precision vs. Accuracy with Parameter Details',\n",
    "    labels={'Mean Test Accuracy': 'Accuracy', 'Mean Test Precision': 'Precision'}\n",
    ")\n",
    "\n",
    "fig.show()"
   ]
  },
  {
   "cell_type": "code",
   "execution_count": 12,
   "metadata": {},
   "outputs": [
    {
     "data": {
      "application/vnd.plotly.v1+json": {
       "config": {
        "plotlyServerURL": "https://plot.ly"
       },
       "data": [
        {
         "customdata": [
          [
           "{'enable_categorical': True, 'learning_rate': 0.01, 'max_depth': 2, 'n_estimators': 100, 'random_state': 42}"
          ],
          [
           "{'enable_categorical': True, 'learning_rate': 0.01, 'max_depth': 2, 'n_estimators': 300, 'random_state': 42}"
          ],
          [
           "{'enable_categorical': True, 'learning_rate': 0.01, 'max_depth': 4, 'n_estimators': 200, 'random_state': 42}"
          ],
          [
           "{'enable_categorical': True, 'learning_rate': 0.01, 'max_depth': 4, 'n_estimators': 300, 'random_state': 42}"
          ],
          [
           "{'enable_categorical': True, 'learning_rate': 0.01, 'max_depth': 6, 'n_estimators': 100, 'random_state': 42}"
          ],
          [
           "{'enable_categorical': True, 'learning_rate': 0.01, 'max_depth': 6, 'n_estimators': 200, 'random_state': 42}"
          ],
          [
           "{'enable_categorical': True, 'learning_rate': 0.01, 'max_depth': 8, 'n_estimators': 100, 'random_state': 42}"
          ],
          [
           "{'enable_categorical': True, 'learning_rate': 0.01, 'max_depth': 10, 'n_estimators': 200, 'random_state': 42}"
          ],
          [
           "{'enable_categorical': True, 'learning_rate': 0.01, 'max_depth': 10, 'n_estimators': 300, 'random_state': 42}"
          ],
          [
           "{'enable_categorical': True, 'learning_rate': 0.05, 'max_depth': 2, 'n_estimators': 100, 'random_state': 42}"
          ],
          [
           "{'enable_categorical': True, 'learning_rate': 0.05, 'max_depth': 2, 'n_estimators': 200, 'random_state': 42}"
          ],
          [
           "{'enable_categorical': True, 'learning_rate': 0.05, 'max_depth': 2, 'n_estimators': 300, 'random_state': 42}"
          ],
          [
           "{'enable_categorical': True, 'learning_rate': 0.05, 'max_depth': 4, 'n_estimators': 100, 'random_state': 42}"
          ],
          [
           "{'enable_categorical': True, 'learning_rate': 0.05, 'max_depth': 4, 'n_estimators': 300, 'random_state': 42}"
          ],
          [
           "{'enable_categorical': True, 'learning_rate': 0.05, 'max_depth': 10, 'n_estimators': 100, 'random_state': 42}"
          ],
          [
           "{'enable_categorical': True, 'learning_rate': 0.1, 'max_depth': 2, 'n_estimators': 100, 'random_state': 42}"
          ],
          [
           "{'enable_categorical': True, 'learning_rate': 0.1, 'max_depth': 2, 'n_estimators': 200, 'random_state': 42}"
          ],
          [
           "{'enable_categorical': True, 'learning_rate': 0.1, 'max_depth': 2, 'n_estimators': 300, 'random_state': 42}"
          ],
          [
           "{'enable_categorical': True, 'learning_rate': 0.1, 'max_depth': 6, 'n_estimators': 100, 'random_state': 42}"
          ],
          [
           "{'enable_categorical': True, 'learning_rate': 0.1, 'max_depth': 6, 'n_estimators': 200, 'random_state': 42}"
          ],
          [
           "{'enable_categorical': True, 'learning_rate': 0.1, 'max_depth': 8, 'n_estimators': 100, 'random_state': 42}"
          ],
          [
           "{'enable_categorical': True, 'learning_rate': 0.1, 'max_depth': 8, 'n_estimators': 200, 'random_state': 42}"
          ],
          [
           "{'enable_categorical': True, 'learning_rate': 0.1, 'max_depth': 10, 'n_estimators': 100, 'random_state': 42}"
          ],
          [
           "{'enable_categorical': True, 'learning_rate': 0.1, 'max_depth': 10, 'n_estimators': 200, 'random_state': 42}"
          ]
         ],
         "hovertemplate": "Recall=%{x}<br>Precision=%{y}<br>Parameters=%{customdata[0]}<extra></extra>",
         "legendgroup": "",
         "marker": {
          "color": "#636efa",
          "symbol": "circle"
         },
         "mode": "markers",
         "name": "",
         "orientation": "v",
         "showlegend": false,
         "type": "scatter",
         "x": [
          0.7450980392156863,
          0.19607843137254902,
          0.11764705882352941,
          0.1568627450980392,
          0.23529411764705882,
          0.23529411764705882,
          0.0784313725490196,
          0.09803921568627451,
          0.11764705882352941,
          0.1568627450980392,
          0.13725490196078433,
          0.11764705882352941,
          0.27450980392156865,
          0.9803921568627451,
          0.11764705882352941,
          0.13725490196078433,
          0.19607843137254902,
          0.1568627450980392,
          0.09803921568627451,
          0.0784313725490196,
          0.23529411764705882,
          0.19607843137254902,
          0.058823529411764705,
          1
         ],
         "xaxis": "x",
         "y": [
          0.5846153846153846,
          0.8333333333333334,
          1,
          1,
          0.75,
          0.8,
          1,
          1,
          1,
          1,
          1,
          1,
          0.6666666666666666,
          0.5617977528089888,
          1,
          1,
          1,
          1,
          1,
          1,
          0.7058823529411765,
          0.8333333333333334,
          1,
          0.5604395604395604
         ],
         "yaxis": "y"
        }
       ],
       "layout": {
        "legend": {
         "tracegroupgap": 0
        },
        "template": {
         "data": {
          "bar": [
           {
            "error_x": {
             "color": "#2a3f5f"
            },
            "error_y": {
             "color": "#2a3f5f"
            },
            "marker": {
             "line": {
              "color": "#E5ECF6",
              "width": 0.5
             },
             "pattern": {
              "fillmode": "overlay",
              "size": 10,
              "solidity": 0.2
             }
            },
            "type": "bar"
           }
          ],
          "barpolar": [
           {
            "marker": {
             "line": {
              "color": "#E5ECF6",
              "width": 0.5
             },
             "pattern": {
              "fillmode": "overlay",
              "size": 10,
              "solidity": 0.2
             }
            },
            "type": "barpolar"
           }
          ],
          "carpet": [
           {
            "aaxis": {
             "endlinecolor": "#2a3f5f",
             "gridcolor": "white",
             "linecolor": "white",
             "minorgridcolor": "white",
             "startlinecolor": "#2a3f5f"
            },
            "baxis": {
             "endlinecolor": "#2a3f5f",
             "gridcolor": "white",
             "linecolor": "white",
             "minorgridcolor": "white",
             "startlinecolor": "#2a3f5f"
            },
            "type": "carpet"
           }
          ],
          "choropleth": [
           {
            "colorbar": {
             "outlinewidth": 0,
             "ticks": ""
            },
            "type": "choropleth"
           }
          ],
          "contour": [
           {
            "colorbar": {
             "outlinewidth": 0,
             "ticks": ""
            },
            "colorscale": [
             [
              0,
              "#0d0887"
             ],
             [
              0.1111111111111111,
              "#46039f"
             ],
             [
              0.2222222222222222,
              "#7201a8"
             ],
             [
              0.3333333333333333,
              "#9c179e"
             ],
             [
              0.4444444444444444,
              "#bd3786"
             ],
             [
              0.5555555555555556,
              "#d8576b"
             ],
             [
              0.6666666666666666,
              "#ed7953"
             ],
             [
              0.7777777777777778,
              "#fb9f3a"
             ],
             [
              0.8888888888888888,
              "#fdca26"
             ],
             [
              1,
              "#f0f921"
             ]
            ],
            "type": "contour"
           }
          ],
          "contourcarpet": [
           {
            "colorbar": {
             "outlinewidth": 0,
             "ticks": ""
            },
            "type": "contourcarpet"
           }
          ],
          "heatmap": [
           {
            "colorbar": {
             "outlinewidth": 0,
             "ticks": ""
            },
            "colorscale": [
             [
              0,
              "#0d0887"
             ],
             [
              0.1111111111111111,
              "#46039f"
             ],
             [
              0.2222222222222222,
              "#7201a8"
             ],
             [
              0.3333333333333333,
              "#9c179e"
             ],
             [
              0.4444444444444444,
              "#bd3786"
             ],
             [
              0.5555555555555556,
              "#d8576b"
             ],
             [
              0.6666666666666666,
              "#ed7953"
             ],
             [
              0.7777777777777778,
              "#fb9f3a"
             ],
             [
              0.8888888888888888,
              "#fdca26"
             ],
             [
              1,
              "#f0f921"
             ]
            ],
            "type": "heatmap"
           }
          ],
          "heatmapgl": [
           {
            "colorbar": {
             "outlinewidth": 0,
             "ticks": ""
            },
            "colorscale": [
             [
              0,
              "#0d0887"
             ],
             [
              0.1111111111111111,
              "#46039f"
             ],
             [
              0.2222222222222222,
              "#7201a8"
             ],
             [
              0.3333333333333333,
              "#9c179e"
             ],
             [
              0.4444444444444444,
              "#bd3786"
             ],
             [
              0.5555555555555556,
              "#d8576b"
             ],
             [
              0.6666666666666666,
              "#ed7953"
             ],
             [
              0.7777777777777778,
              "#fb9f3a"
             ],
             [
              0.8888888888888888,
              "#fdca26"
             ],
             [
              1,
              "#f0f921"
             ]
            ],
            "type": "heatmapgl"
           }
          ],
          "histogram": [
           {
            "marker": {
             "pattern": {
              "fillmode": "overlay",
              "size": 10,
              "solidity": 0.2
             }
            },
            "type": "histogram"
           }
          ],
          "histogram2d": [
           {
            "colorbar": {
             "outlinewidth": 0,
             "ticks": ""
            },
            "colorscale": [
             [
              0,
              "#0d0887"
             ],
             [
              0.1111111111111111,
              "#46039f"
             ],
             [
              0.2222222222222222,
              "#7201a8"
             ],
             [
              0.3333333333333333,
              "#9c179e"
             ],
             [
              0.4444444444444444,
              "#bd3786"
             ],
             [
              0.5555555555555556,
              "#d8576b"
             ],
             [
              0.6666666666666666,
              "#ed7953"
             ],
             [
              0.7777777777777778,
              "#fb9f3a"
             ],
             [
              0.8888888888888888,
              "#fdca26"
             ],
             [
              1,
              "#f0f921"
             ]
            ],
            "type": "histogram2d"
           }
          ],
          "histogram2dcontour": [
           {
            "colorbar": {
             "outlinewidth": 0,
             "ticks": ""
            },
            "colorscale": [
             [
              0,
              "#0d0887"
             ],
             [
              0.1111111111111111,
              "#46039f"
             ],
             [
              0.2222222222222222,
              "#7201a8"
             ],
             [
              0.3333333333333333,
              "#9c179e"
             ],
             [
              0.4444444444444444,
              "#bd3786"
             ],
             [
              0.5555555555555556,
              "#d8576b"
             ],
             [
              0.6666666666666666,
              "#ed7953"
             ],
             [
              0.7777777777777778,
              "#fb9f3a"
             ],
             [
              0.8888888888888888,
              "#fdca26"
             ],
             [
              1,
              "#f0f921"
             ]
            ],
            "type": "histogram2dcontour"
           }
          ],
          "mesh3d": [
           {
            "colorbar": {
             "outlinewidth": 0,
             "ticks": ""
            },
            "type": "mesh3d"
           }
          ],
          "parcoords": [
           {
            "line": {
             "colorbar": {
              "outlinewidth": 0,
              "ticks": ""
             }
            },
            "type": "parcoords"
           }
          ],
          "pie": [
           {
            "automargin": true,
            "type": "pie"
           }
          ],
          "scatter": [
           {
            "fillpattern": {
             "fillmode": "overlay",
             "size": 10,
             "solidity": 0.2
            },
            "type": "scatter"
           }
          ],
          "scatter3d": [
           {
            "line": {
             "colorbar": {
              "outlinewidth": 0,
              "ticks": ""
             }
            },
            "marker": {
             "colorbar": {
              "outlinewidth": 0,
              "ticks": ""
             }
            },
            "type": "scatter3d"
           }
          ],
          "scattercarpet": [
           {
            "marker": {
             "colorbar": {
              "outlinewidth": 0,
              "ticks": ""
             }
            },
            "type": "scattercarpet"
           }
          ],
          "scattergeo": [
           {
            "marker": {
             "colorbar": {
              "outlinewidth": 0,
              "ticks": ""
             }
            },
            "type": "scattergeo"
           }
          ],
          "scattergl": [
           {
            "marker": {
             "colorbar": {
              "outlinewidth": 0,
              "ticks": ""
             }
            },
            "type": "scattergl"
           }
          ],
          "scattermapbox": [
           {
            "marker": {
             "colorbar": {
              "outlinewidth": 0,
              "ticks": ""
             }
            },
            "type": "scattermapbox"
           }
          ],
          "scatterpolar": [
           {
            "marker": {
             "colorbar": {
              "outlinewidth": 0,
              "ticks": ""
             }
            },
            "type": "scatterpolar"
           }
          ],
          "scatterpolargl": [
           {
            "marker": {
             "colorbar": {
              "outlinewidth": 0,
              "ticks": ""
             }
            },
            "type": "scatterpolargl"
           }
          ],
          "scatterternary": [
           {
            "marker": {
             "colorbar": {
              "outlinewidth": 0,
              "ticks": ""
             }
            },
            "type": "scatterternary"
           }
          ],
          "surface": [
           {
            "colorbar": {
             "outlinewidth": 0,
             "ticks": ""
            },
            "colorscale": [
             [
              0,
              "#0d0887"
             ],
             [
              0.1111111111111111,
              "#46039f"
             ],
             [
              0.2222222222222222,
              "#7201a8"
             ],
             [
              0.3333333333333333,
              "#9c179e"
             ],
             [
              0.4444444444444444,
              "#bd3786"
             ],
             [
              0.5555555555555556,
              "#d8576b"
             ],
             [
              0.6666666666666666,
              "#ed7953"
             ],
             [
              0.7777777777777778,
              "#fb9f3a"
             ],
             [
              0.8888888888888888,
              "#fdca26"
             ],
             [
              1,
              "#f0f921"
             ]
            ],
            "type": "surface"
           }
          ],
          "table": [
           {
            "cells": {
             "fill": {
              "color": "#EBF0F8"
             },
             "line": {
              "color": "white"
             }
            },
            "header": {
             "fill": {
              "color": "#C8D4E3"
             },
             "line": {
              "color": "white"
             }
            },
            "type": "table"
           }
          ]
         },
         "layout": {
          "annotationdefaults": {
           "arrowcolor": "#2a3f5f",
           "arrowhead": 0,
           "arrowwidth": 1
          },
          "autotypenumbers": "strict",
          "coloraxis": {
           "colorbar": {
            "outlinewidth": 0,
            "ticks": ""
           }
          },
          "colorscale": {
           "diverging": [
            [
             0,
             "#8e0152"
            ],
            [
             0.1,
             "#c51b7d"
            ],
            [
             0.2,
             "#de77ae"
            ],
            [
             0.3,
             "#f1b6da"
            ],
            [
             0.4,
             "#fde0ef"
            ],
            [
             0.5,
             "#f7f7f7"
            ],
            [
             0.6,
             "#e6f5d0"
            ],
            [
             0.7,
             "#b8e186"
            ],
            [
             0.8,
             "#7fbc41"
            ],
            [
             0.9,
             "#4d9221"
            ],
            [
             1,
             "#276419"
            ]
           ],
           "sequential": [
            [
             0,
             "#0d0887"
            ],
            [
             0.1111111111111111,
             "#46039f"
            ],
            [
             0.2222222222222222,
             "#7201a8"
            ],
            [
             0.3333333333333333,
             "#9c179e"
            ],
            [
             0.4444444444444444,
             "#bd3786"
            ],
            [
             0.5555555555555556,
             "#d8576b"
            ],
            [
             0.6666666666666666,
             "#ed7953"
            ],
            [
             0.7777777777777778,
             "#fb9f3a"
            ],
            [
             0.8888888888888888,
             "#fdca26"
            ],
            [
             1,
             "#f0f921"
            ]
           ],
           "sequentialminus": [
            [
             0,
             "#0d0887"
            ],
            [
             0.1111111111111111,
             "#46039f"
            ],
            [
             0.2222222222222222,
             "#7201a8"
            ],
            [
             0.3333333333333333,
             "#9c179e"
            ],
            [
             0.4444444444444444,
             "#bd3786"
            ],
            [
             0.5555555555555556,
             "#d8576b"
            ],
            [
             0.6666666666666666,
             "#ed7953"
            ],
            [
             0.7777777777777778,
             "#fb9f3a"
            ],
            [
             0.8888888888888888,
             "#fdca26"
            ],
            [
             1,
             "#f0f921"
            ]
           ]
          },
          "colorway": [
           "#636efa",
           "#EF553B",
           "#00cc96",
           "#ab63fa",
           "#FFA15A",
           "#19d3f3",
           "#FF6692",
           "#B6E880",
           "#FF97FF",
           "#FECB52"
          ],
          "font": {
           "color": "#2a3f5f"
          },
          "geo": {
           "bgcolor": "white",
           "lakecolor": "white",
           "landcolor": "#E5ECF6",
           "showlakes": true,
           "showland": true,
           "subunitcolor": "white"
          },
          "hoverlabel": {
           "align": "left"
          },
          "hovermode": "closest",
          "mapbox": {
           "style": "light"
          },
          "paper_bgcolor": "white",
          "plot_bgcolor": "#E5ECF6",
          "polar": {
           "angularaxis": {
            "gridcolor": "white",
            "linecolor": "white",
            "ticks": ""
           },
           "bgcolor": "#E5ECF6",
           "radialaxis": {
            "gridcolor": "white",
            "linecolor": "white",
            "ticks": ""
           }
          },
          "scene": {
           "xaxis": {
            "backgroundcolor": "#E5ECF6",
            "gridcolor": "white",
            "gridwidth": 2,
            "linecolor": "white",
            "showbackground": true,
            "ticks": "",
            "zerolinecolor": "white"
           },
           "yaxis": {
            "backgroundcolor": "#E5ECF6",
            "gridcolor": "white",
            "gridwidth": 2,
            "linecolor": "white",
            "showbackground": true,
            "ticks": "",
            "zerolinecolor": "white"
           },
           "zaxis": {
            "backgroundcolor": "#E5ECF6",
            "gridcolor": "white",
            "gridwidth": 2,
            "linecolor": "white",
            "showbackground": true,
            "ticks": "",
            "zerolinecolor": "white"
           }
          },
          "shapedefaults": {
           "line": {
            "color": "#2a3f5f"
           }
          },
          "ternary": {
           "aaxis": {
            "gridcolor": "white",
            "linecolor": "white",
            "ticks": ""
           },
           "baxis": {
            "gridcolor": "white",
            "linecolor": "white",
            "ticks": ""
           },
           "bgcolor": "#E5ECF6",
           "caxis": {
            "gridcolor": "white",
            "linecolor": "white",
            "ticks": ""
           }
          },
          "title": {
           "x": 0.05
          },
          "xaxis": {
           "automargin": true,
           "gridcolor": "white",
           "linecolor": "white",
           "ticks": "",
           "title": {
            "standoff": 15
           },
           "zerolinecolor": "white",
           "zerolinewidth": 2
          },
          "yaxis": {
           "automargin": true,
           "gridcolor": "white",
           "linecolor": "white",
           "ticks": "",
           "title": {
            "standoff": 15
           },
           "zerolinecolor": "white",
           "zerolinewidth": 2
          }
         }
        },
        "title": {
         "text": "Pareto Front of Precision vs. Recall"
        },
        "xaxis": {
         "anchor": "y",
         "domain": [
          0,
          1
         ],
         "title": {
          "text": "Recall"
         }
        },
        "yaxis": {
         "anchor": "x",
         "domain": [
          0,
          1
         ],
         "title": {
          "text": "Precision"
         }
        }
       }
      }
     },
     "metadata": {},
     "output_type": "display_data"
    }
   ],
   "source": [
    "def identify_pareto(scores):\n",
    "    pareto_index = []\n",
    "    for i, (c1, c2) in enumerate(scores):\n",
    "        dominated = any((c1 < other_c1 and c2 < other_c2) for j, (other_c1, other_c2) in enumerate(scores) if i != j)\n",
    "        if not dominated:\n",
    "            pareto_index.append(i)\n",
    "    return pareto_index\n",
    "\n",
    "recall = [result['recall_youden'] for result in cv_results]\n",
    "precision = [result['precision_youden'] for result in cv_results]\n",
    "\n",
    "scores = list(zip(recall, precision))\n",
    "\n",
    "pareto_indices = identify_pareto(scores)\n",
    "\n",
    "pareto_data = {\n",
    "    'Mean Test Recall': [recall[i] for i in pareto_indices],\n",
    "    'Mean Test Precision': [precision[i] for i in pareto_indices],\n",
    "    'Parameters': [str(list(ParameterGrid(param_grid))[i]) for i in pareto_indices]\n",
    "}\n",
    "\n",
    "import plotly.express as px\n",
    "\n",
    "pareto_fig = px.scatter(\n",
    "    pareto_data,\n",
    "    x='Mean Test Recall',\n",
    "    y='Mean Test Precision',\n",
    "    hover_data=['Parameters'],\n",
    "    title='Pareto Front of Precision vs. Recall',\n",
    "    labels={'Mean Test Recall': 'Recall', 'Mean Test Precision': 'Precision'}\n",
    ")\n",
    "\n",
    "pareto_fig.show()"
   ]
  },
  {
   "cell_type": "markdown",
   "metadata": {},
   "source": [
    "# COM STANDARD SCALER"
   ]
  },
  {
   "cell_type": "code",
   "execution_count": 13,
   "metadata": {},
   "outputs": [
    {
     "ename": "NameError",
     "evalue": "name 'X' is not defined",
     "output_type": "error",
     "traceback": [
      "\u001b[0;31m---------------------------------------------------------------------------\u001b[0m",
      "\u001b[0;31mNameError\u001b[0m                                 Traceback (most recent call last)",
      "Cell \u001b[0;32mIn[13], line 8\u001b[0m\n\u001b[1;32m      6\u001b[0m \u001b[38;5;66;03m# Transform training and testing data\u001b[39;00m\n\u001b[1;32m      7\u001b[0m X_train \u001b[38;5;241m=\u001b[39m scaler\u001b[38;5;241m.\u001b[39mtransform(X_train)\n\u001b[0;32m----> 8\u001b[0m X_train \u001b[38;5;241m=\u001b[39m pd\u001b[38;5;241m.\u001b[39mDataFrame(X_train, columns \u001b[38;5;241m=\u001b[39m \u001b[43mX\u001b[49m\u001b[38;5;241m.\u001b[39mcolumns)\n\u001b[1;32m     10\u001b[0m X_test \u001b[38;5;241m=\u001b[39m scaler\u001b[38;5;241m.\u001b[39mtransform(X_test)\n\u001b[1;32m     11\u001b[0m X_test \u001b[38;5;241m=\u001b[39m pd\u001b[38;5;241m.\u001b[39mDataFrame(X_test, columns \u001b[38;5;241m=\u001b[39m X\u001b[38;5;241m.\u001b[39mcolumns)\n",
      "\u001b[0;31mNameError\u001b[0m: name 'X' is not defined"
     ]
    }
   ],
   "source": [
    "scaler = StandardScaler()\n",
    "\n",
    "# Fit on training data\n",
    "scaler.fit(X_train)\n",
    "\n",
    "# Transform training and testing data\n",
    "X_train = scaler.transform(X_train)\n",
    "X_train = pd.DataFrame(X_train, columns = X.columns)\n",
    "\n",
    "X_test = scaler.transform(X_test)\n",
    "X_test = pd.DataFrame(X_test, columns = X.columns)"
   ]
  },
  {
   "cell_type": "code",
   "execution_count": null,
   "metadata": {},
   "outputs": [],
   "source": [
    "results = []\n",
    "for param in list(ParameterGrid(param_grid)):\n",
    "    cf = XGBClassifier(**param)\n",
    "    cf.fit(X_train, y_train)\n",
    "    y_pred = cf.predict_proba(X_test)\n",
    "    r = {\n",
    "        'recall_youden':recall_youden(y_test, y_pred[:, 1]),\n",
    "        'precision_youden':precision_youden(y_test, y_pred[:, 1])\n",
    "    }\n",
    "    results.append(r)\n",
    " \n",
    "    \n",
    "results  "
   ]
  },
  {
   "cell_type": "code",
   "execution_count": null,
   "metadata": {},
   "outputs": [],
   "source": [
    "cv_results = results\n",
    "\n",
    "data = {\n",
    "    'Mean Test Recall': [result['recall_youden'] for result in cv_results],\n",
    "    'Mean Test Precision': [result['precision_youden'] for result in cv_results],\n",
    "    'Parameters': [str(params) for params in list(ParameterGrid(param_grid))]\n",
    "}\n",
    "\n",
    "import plotly.express as px\n",
    "\n",
    "fig = px.scatter(\n",
    "    data,\n",
    "    x='Mean Test Recall',\n",
    "    y='Mean Test Precision',\n",
    "    hover_data=['Parameters'],\n",
    "    title='Precision vs. Recall with Parameter Details',\n",
    "    labels={'Mean Test Recall': 'Recall', 'Mean Test Precision': 'Precision'}\n",
    ")\n",
    "\n",
    "fig.show()"
   ]
  },
  {
   "cell_type": "code",
   "execution_count": null,
   "metadata": {},
   "outputs": [],
   "source": [
    "def identify_pareto(scores):\n",
    "    pareto_index = []\n",
    "    for i, (c1, c2) in enumerate(scores):\n",
    "        dominated = any((c1 < other_c1 and c2 < other_c2) for j, (other_c1, other_c2) in enumerate(scores) if i != j)\n",
    "        if not dominated:\n",
    "            pareto_index.append(i)\n",
    "    return pareto_index\n",
    "\n",
    "recall = [result['recall_youden'] for result in cv_results]\n",
    "precision = [result['precision_youden'] for result in cv_results]\n",
    "\n",
    "scores = list(zip(recall, precision))\n",
    "\n",
    "pareto_indices = identify_pareto(scores)\n",
    "\n",
    "pareto_data = {\n",
    "    'Mean Test Recall': [recall[i] for i in pareto_indices],\n",
    "    'Mean Test Precision': [precision[i] for i in pareto_indices],\n",
    "    'Parameters': [str(list(ParameterGrid(param_grid))[i]) for i in pareto_indices]\n",
    "}\n",
    "\n",
    "import plotly.express as px\n",
    "\n",
    "pareto_fig = px.scatter(\n",
    "    pareto_data,\n",
    "    x='Mean Test Recall',\n",
    "    y='Mean Test Precision',\n",
    "    hover_data=['Parameters'],\n",
    "    title='Pareto Front of Precision vs. Recall',\n",
    "    labels={'Mean Test Recall': 'Recall', 'Mean Test Precision': 'Precision'}\n",
    ")\n",
    "\n",
    "pareto_fig.show()"
   ]
  }
 ],
 "metadata": {
  "kernelspec": {
   "display_name": "base",
   "language": "python",
   "name": "python3"
  },
  "language_info": {
   "codemirror_mode": {
    "name": "ipython",
    "version": 3
   },
   "file_extension": ".py",
   "mimetype": "text/x-python",
   "name": "python",
   "nbconvert_exporter": "python",
   "pygments_lexer": "ipython3",
   "version": "3.12.2"
  }
 },
 "nbformat": 4,
 "nbformat_minor": 2
}
